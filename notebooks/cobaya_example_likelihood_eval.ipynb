{
 "cells": [
  {
   "cell_type": "code",
   "execution_count": 1,
   "id": "4627ea78-5ff7-4f34-a498-246aea17dc63",
   "metadata": {},
   "outputs": [],
   "source": [
    "%matplotlib inline\n",
    "import sys, os\n",
    "os.environ['COBAYA_NOMPI'] = 'True'\n",
    "sys.path.append('/global/project/projectdirs/desi/users/jderose/CobayaLSS/')\n",
    "sys.path.append('/global/project/projectdirs/desi/users/jderose/CobayaLSS/lss_likelihood/')\n",
    "\n",
    "import numpy as np\n",
    "import matplotlib.pyplot as plt\n",
    "from cobaya.model import get_model\n",
    "from cobaya.yaml import yaml_load\n",
    "import yaml\n",
    "import h5py\n",
    "# https://matplotlib.org/users/customizing.html\n",
    "plt.rcParams['figure.figsize']        = 8., 6.\n",
    "plt.rcParams['figure.dpi']            = 100\n",
    "plt.rcParams['figure.subplot.left']   = 0.125\n",
    "plt.rcParams['figure.subplot.right']  = 0.9\n",
    "plt.rcParams['figure.subplot.bottom'] = 0.125\n",
    "plt.rcParams['figure.subplot.top']    = 0.9\n",
    "plt.rcParams['axes.labelsize']        = 18\n",
    "plt.rcParams['axes.titlesize']        = 18\n",
    "plt.rcParams['xtick.top']             = True\n",
    "plt.rcParams['xtick.bottom']          = True\n",
    "plt.rcParams['ytick.left']            = True\n",
    "plt.rcParams['ytick.right']           = True\n",
    "plt.rcParams['xtick.direction']       = 'in'\n",
    "plt.rcParams['ytick.direction']       = 'in'\n",
    "plt.rcParams['xtick.labelsize']       = 18\n",
    "plt.rcParams['ytick.labelsize']       = 18\n",
    "plt.rcParams['xtick.major.pad']       = 6.\n",
    "plt.rcParams['xtick.minor.pad']       = 6.\n",
    "plt.rcParams['ytick.major.pad']       = 6.\n",
    "plt.rcParams['ytick.minor.pad']       = 6.\n",
    "plt.rcParams['xtick.major.size']      = 6. # major tick size in points\n",
    "plt.rcParams['xtick.minor.size']      = 3. # minor tick size in points\n",
    "plt.rcParams['ytick.major.size']      = 6. # major tick size in points\n",
    "plt.rcParams['ytick.minor.size']      = 3. # minor tick size in points\n",
    "plt.rcParams['text.usetex']           = True\n",
    "plt.rcParams['font.family']           = 'serif'\n",
    "plt.rcParams['font.serif']            = 'Computer Modern Roman Bold'\n",
    "plt.rcParams['font.size']             = 18\n",
    "\n",
    "colors = ['#8d598f', '#cd9b00', '#de2d26', '#004d00', '#3182bd'][::-1]\n"
   ]
  },
  {
   "cell_type": "code",
   "execution_count": 17,
   "id": "e52de49a-765f-4425-bb6b-b33f45ad26c3",
   "metadata": {},
   "outputs": [],
   "source": [
    "info_txt='/global/project/projectdirs/desi/users/jderose/CobayaLSS/configs/example_config.yaml'\n",
    "\n",
    "# this specifies the likelihood that you're computing, including which theory modules (e.g. anzu) that you want to use.\n",
    "# In particular, the block in the file below that reads:\n",
    "# likelihood:\n",
    "#   lss_likelihood.wl_x_rsd.HarmonicSpaceWLxRSD :\n",
    "#     datavector_info_filename : /global/project/projectdirs/desi/users/jderose/CobayaLSS/unit_redmagic_rs_data.yaml\n",
    "#     zmin_proj: 0.0\n",
    "#     zmax_proj: 2.0\n",
    "#     nz_proj: 20\n",
    "#     heft: True\n",
    "#     halofit_pmm: False\n",
    "#\n",
    "# tells us that we want to use the data contained in the `datavector_info_filename` field to compute our likelihood. "
   ]
  },
  {
   "cell_type": "code",
   "execution_count": 3,
   "id": "373aebcd-532b-4c0f-861b-ddee8ab67071",
   "metadata": {},
   "outputs": [
    {
     "name": "stdout",
     "output_type": "stream",
     "text": [
      "spectra_filename : /global/project/projectdirs/desi/users/jderose/CobayaLSS/data/windowed_cmbwl_x_projgal.txt\n",
      "covariance_filename : /global/project/projectdirs/desi/users/jderose/CobayaLSS/data/windowed_cmbwl_x_projgal_dummy_cov.txt\n",
      "nz_d : /project/projectdirs/desi/users/jderose/CobayaLSS/data/wl_x_rsd_nz.txt\n",
      "z_fid: [0.5924]\n",
      "chiz_fid: [1519.46]\n",
      "hz_fid: [1.389]"
     ]
    }
   ],
   "source": [
    "# Let's look at what's in this file\n",
    "!cat /global/project/projectdirs/desi/users/jderose/CobayaLSS/unit_redmagic_rs_data.yaml"
   ]
  },
  {
   "cell_type": "code",
   "execution_count": 4,
   "id": "d36c5418-5b6a-451d-a53e-d6963ffd359f",
   "metadata": {},
   "outputs": [],
   "source": [
    "# In this example, we're just computing one lens sample angular auto spectrum, and it cross spectrum with CMB lensing.\n",
    "# `spectra_filename` contains links to the actual spectra functions that we wish to compare our predictions to\n",
    "# `covariance_filename` contains the covariance\n",
    "# `nz_d` contains the lens number density. In the case where we're actually computing galaxy-galaxy lensing statistics, we would \n",
    "# also require `nz_s` containing source number densities as well."
   ]
  },
  {
   "cell_type": "code",
   "execution_count": 5,
   "id": "317c728c-3768-4eae-9f5d-315730b045ed",
   "metadata": {},
   "outputs": [],
   "source": [
    "# these are not real data vectors, just basic examples of \n",
    "spec_dt = np.dtype([('spectrum_type', 'U10'), ('zbin0', np.int),\n",
    "                    ('zbin1', np.int), ('separation', np.float), ('value', np.float)])\n",
    "\n",
    "cov_dt = np.dtype([('spectrum_type0','U10'), ('spectrum_type1','U10'), ('zbin00', np.int),\n",
    "       ('zbin01', np.int), ('zbin10', np.int), ('zbin11', np.int), \n",
    "       ('separation0', np.float), ('separation1', np.float), ('value', np.float)])\n",
    "\n",
    "#spectra = np.genfromtxt('/project/projectdirs/desi/users/jderose/CobayaLSS/data/rs_spectra.txt', dtype=spec_dt)\n",
    "spectra = np.genfromtxt('/global/project/projectdirs/desi/users/jderose/CobayaLSS/data/windowed_cmbwl_x_projgal.txt', dtype=spec_dt)\n",
    "cov = np.genfromtxt('/global/project/projectdirs/desi/users/jderose/CobayaLSS/data/windowed_cmbwl_x_projgal_dummy_cov.txt', dtype=cov_dt)\n",
    "nz = np.genfromtxt('/project/projectdirs/desi/users/jderose/CobayaLSS/data/wl_x_rsd_nz.txt', dtype=None, names=True)"
   ]
  },
  {
   "cell_type": "code",
   "execution_count": 6,
   "id": "cc458457-8124-44f3-90f8-068d832d7955",
   "metadata": {},
   "outputs": [
    {
     "name": "stdout",
     "output_type": "stream",
     "text": [
      "spectrum format\n",
      "[('spectrum_type', '<U10'), ('zbin0', '<i8'), ('zbin1', '<i8'), ('separation', '<f8'), ('value', '<f8')]\n",
      "cov format\n",
      "[('spectrum_type0', '<U10'), ('spectrum_type1', '<U10'), ('zbin00', '<i8'), ('zbin01', '<i8'), ('zbin10', '<i8'), ('zbin11', '<i8'), ('separation0', '<f8'), ('separation1', '<f8'), ('value', '<f8')]\n",
      "nz format\n",
      "[('z', '<f8'), ('nz0', '<f8')]\n"
     ]
    }
   ],
   "source": [
    "print('spectrum format')\n",
    "print(spectra.dtype)\n",
    "\n",
    "print('cov format')\n",
    "print(cov.dtype)\n",
    "\n",
    "print('nz format')\n",
    "print(nz.dtype)"
   ]
  },
  {
   "cell_type": "code",
   "execution_count": 7,
   "id": "df6969ef-0392-4bc6-96b7-cb7edf4a49ee",
   "metadata": {},
   "outputs": [
    {
     "data": {
      "text/plain": [
       "Text(0, 0.5, '$C(\\\\ell)$')"
      ]
     },
     "execution_count": 7,
     "metadata": {},
     "output_type": "execute_result"
    },
    {
     "data": {
      "image/png": "[encoded data removed]",
      "text/plain": [
       "<Figure size 800x600 with 1 Axes>"
      ]
     },
     "metadata": {
      "needs_background": "light"
     },
     "output_type": "display_data"
    }
   ],
   "source": [
    "# lens-lens auto correlation\n",
    "c_dd = spectra[(spectra['spectrum_type'] == 'c_dd') & (spectra['zbin0']==0) & (spectra['zbin1']==0)]\n",
    "\n",
    "# lens-cmbkappa cross correlation\n",
    "c_dcmbk = spectra[(spectra['spectrum_type'] == 'c_dcmbk') & (spectra['zbin0']==0) & (spectra['zbin1']==0)]\n",
    "\n",
    "plt.loglog(c_dd['separation'], c_dd['value'])\n",
    "plt.loglog(c_dcmbk['separation'], c_dcmbk['value'])\n",
    "plt.xlabel(r'$\\ell$')\n",
    "plt.ylabel(r'$C(\\ell)$')"
   ]
  },
  {
   "cell_type": "code",
   "execution_count": 8,
   "id": "7fba107f-13d9-470b-a90a-2017478dc678",
   "metadata": {},
   "outputs": [
    {
     "data": {
      "text/plain": [
       "Text(0, 0.5, '$n(z)$')"
      ]
     },
     "execution_count": 8,
     "metadata": {},
     "output_type": "execute_result"
    },
    {
     "data": {
      "image/png": "[encoded data removed]",
      "text/plain": [
       "<Figure size 800x600 with 1 Axes>"
      ]
     },
     "metadata": {
      "needs_background": "light"
     },
     "output_type": "display_data"
    }
   ],
   "source": [
    "#if there were more lens bins, would have extra fields called nz1, nz2, etc.\n",
    "plt.plot(nz['z'], nz['nz0'])\n",
    "plt.xlabel(r'$z$')\n",
    "plt.ylabel(r'$n(z)$')"
   ]
  },
  {
   "cell_type": "code",
   "execution_count": 9,
   "id": "6f73a601-fa03-4307-a879-81098d8e6621",
   "metadata": {},
   "outputs": [
    {
     "name": "stderr",
     "output_type": "stream",
     "text": [
      "<ipython-input-9-8cad666a20b3>:3: YAMLLoadWarning: calling yaml.load() without Loader=... is deprecated, as the default Loader is unsafe. Please read https://msg.pyyaml.org/load for full details.\n",
      "  info = yaml.load(fp)\n"
     ]
    },
    {
     "name": "stdout",
     "output_type": "stream",
     "text": [
      "[model] *WARNING* Ignored blocks/options: ['sampler', 'output', 'stop_on_error', 'emulate']\n",
      "[CAMB] Importing *auto-installed* CAMB (but defaulting to *global*).\n",
      "[camb] Initialized!\n"
     ]
    },
    {
     "name": "stderr",
     "output_type": "stream",
     "text": [
      "/global/homes/j/jderose/.conda/envs/cobaya/lib/python3.8/site-packages/anzu-1.0-py3.8.egg/anzu/emu_funcs.py:155: UserWarning: kecleft and extrap are both set. Setting extrap to False.\n",
      "  warnings.warn(\n",
      "/global/homes/j/jderose/.conda/envs/cobaya/lib/python3.8/site-packages/anzu-1.0-py3.8.egg/anzu/emu_funcs.py:224: RuntimeWarning: invalid value encountered in log10\n",
      "  simoverlpt = np.log10(simoverlpt)\n",
      "/global/project/projectdirs/desi/users/jderose/CobayaLSS/lss_likelihood/wl_x_rsd.py:93: YAMLLoadWarning: calling yaml.load() without Loader=... is deprecated, as the default Loader is unsafe. Please read https://msg.pyyaml.org/load for full details.\n",
      "  datavector_info = yaml.load(fp)\n",
      "/global/project/projectdirs/desi/users/jderose/CobayaLSS/lss_likelihood/wl_x_rsd.py:264: UserWarning: No scale cuts specified for any spectra!\n",
      "  warnings.warn('No scale cuts specified for any spectra!', UserWarning)\n"
     ]
    }
   ],
   "source": [
    "#now lets load this model\n",
    "with open(info_txt, 'rb') as fp:\n",
    "    info = yaml.load(fp)\n",
    "    \n",
    "info['packages_path'] = '/global/project/projectdirs/desi/users/jderose/CobayaLSS/'\n",
    "info['debug'] = False\n",
    "info['stop_at_error'] = True\n",
    "\n",
    "model = get_model(info)\n",
    "\n"
   ]
  },
  {
   "cell_type": "code",
   "execution_count": 10,
   "id": "1d367003-34bc-4dda-9be6-2912927fb13c",
   "metadata": {},
   "outputs": [],
   "source": [
    "bounds = model.prior.bounds()\n",
    "params = model.prior.params\n"
   ]
  },
  {
   "cell_type": "code",
   "execution_count": 11,
   "id": "c668beaf-3fd9-4d1f-a9bc-aa63f88d93ad",
   "metadata": {},
   "outputs": [
    {
     "data": {
      "text/plain": [
       "{'logA': array([3.   , 3.179]),\n",
       " 'ns': array([0.927, 0.997]),\n",
       " 'H0': array([61.6, 74.7]),\n",
       " 'w': array([-1.39 , -0.565]),\n",
       " 'ombh2': array([0.0206, 0.0237]),\n",
       " 'omch2': array([0.1012, 0.1317]),\n",
       " 'b1_0': array([0., 3.]),\n",
       " 'b2_0': array([-5.,  5.]),\n",
       " 'bk_0': array([-100.,  100.]),\n",
       " 'sn_0': array([-5000.,  5000.])}"
      ]
     },
     "execution_count": 11,
     "metadata": {},
     "output_type": "execute_result"
    }
   ],
   "source": [
    "#parameters we're sampling over and their bounds, as defined in the config file\n",
    "dict(zip(params,bounds))"
   ]
  },
  {
   "cell_type": "code",
   "execution_count": 12,
   "id": "9a6c5993-be55-4482-8ff1-5a28785b78bd",
   "metadata": {},
   "outputs": [
    {
     "name": "stdout",
     "output_type": "stream",
     "text": [
      "{'logA': 3.064, 'ns': 0.9667, 'H0': 67.74, 'w': -1, 'ombh2': 0.0223, 'omch2': 0.1188, 'b1_0': 1, 'b2_0': 0, 'bk_0': 0, 'sn_0': 1000}\n"
     ]
    }
   ],
   "source": [
    "#now we can evaluate the model at some reference values for the parameters\n",
    "unit_params = [3.064, 0.9667, 67.74, -1, 0.02230, 0.1188, 1, 0, 0, 1000]\n",
    "pars = dict(zip(params, unit_params))\n",
    "print(pars)"
   ]
  },
  {
   "cell_type": "code",
   "execution_count": 13,
   "id": "7796e9e6-5ad3-48e2-8999-bd13e1d1b47d",
   "metadata": {},
   "outputs": [
    {
     "data": {
      "text/plain": [
       "LogPosterior(logpost=-6.644084893346942, logpriors=[-6.644084184812056], loglikes=array([-7.08534886e-07]), derived=[2.1413038238853928e-09, 0.30749398806757705, 0.1411, 0.6924148566859444, 0.2453573220513785, 0.24668369813315752, 2.5984515944044935, 10.0, 0.8277003351138936, 1.0056585143364587, 0.45897755234660065, 0.6163569370803219, 2.141303823885393, 1.8615601137857205, 13.81478494957316, 147.5024254661745])"
      ]
     },
     "execution_count": 13,
     "metadata": {},
     "output_type": "execute_result"
    }
   ],
   "source": [
    "model.logposterior(pars)"
   ]
  },
  {
   "cell_type": "code",
   "execution_count": 14,
   "id": "fa0e8d17-6a77-40ba-9d0b-c6e34f764f96",
   "metadata": {},
   "outputs": [],
   "source": [
    "#Lets take a look at the predictions\n",
    "like = model.likelihood['lss_likelihood.wl_x_rsd.HarmonicSpaceWLxRSD']"
   ]
  },
  {
   "cell_type": "code",
   "execution_count": 15,
   "id": "f5f3cde3-15c2-472b-b36c-d537acfce20b",
   "metadata": {},
   "outputs": [
    {
     "data": {
      "text/plain": [
       "{'c_dcmbk': {'bins0': array([0]),\n",
       "  'bins1': array([0]),\n",
       "  'n_dv_per_bin': 122,\n",
       "  'separation': array([  49.5,   99.5,  149.5,  199.5,  249.5,  299.5,  349.5,  399.5,\n",
       "          449.5,  499.5,  549.5,  599.5,  649.5,  699.5,  749.5,  799.5,\n",
       "          849.5,  899.5,  949.5,  999.5, 1049.5, 1099.5, 1149.5, 1199.5,\n",
       "         1249.5, 1299.5, 1349.5, 1399.5, 1449.5, 1499.5, 1549.5, 1599.5,\n",
       "         1649.5, 1699.5, 1749.5, 1799.5, 1849.5, 1899.5, 1949.5, 1999.5,\n",
       "         2049.5, 2099.5, 2149.5, 2199.5, 2249.5, 2299.5, 2349.5, 2399.5,\n",
       "         2449.5, 2499.5, 2549.5, 2599.5, 2649.5, 2699.5, 2749.5, 2799.5,\n",
       "         2849.5, 2899.5, 2949.5, 2999.5, 3049.5, 3099.5, 3149.5, 3199.5,\n",
       "         3249.5, 3299.5, 3349.5, 3399.5, 3449.5, 3499.5, 3549.5, 3599.5,\n",
       "         3649.5, 3699.5, 3749.5, 3799.5, 3849.5, 3899.5, 3949.5, 3999.5,\n",
       "         4049.5, 4099.5, 4149.5, 4199.5, 4249.5, 4299.5, 4349.5, 4399.5,\n",
       "         4449.5, 4499.5, 4549.5, 4599.5, 4649.5, 4699.5, 4749.5, 4799.5,\n",
       "         4849.5, 4899.5, 4949.5, 4999.5, 5049.5, 5099.5, 5149.5, 5199.5,\n",
       "         5249.5, 5299.5, 5349.5, 5399.5, 5449.5, 5499.5, 5549.5, 5599.5,\n",
       "         5649.5, 5699.5, 5749.5, 5799.5, 5849.5, 5899.5, 5949.5, 5999.5,\n",
       "         6049.5, 6099.5]),\n",
       "  'scale_cut_masks': None,\n",
       "  '0_model': array([ 8.35495512e-07,  4.95199513e-07,  3.00425573e-07,  2.06960285e-07,\n",
       "          1.49762128e-07,  1.15407230e-07,  9.30516340e-08,  7.74523187e-08,\n",
       "          6.63257411e-08,  5.78998168e-08,  5.14184581e-08,  4.63017677e-08,\n",
       "          4.21568623e-08,  3.87189584e-08,  3.58277598e-08,  3.33884170e-08,\n",
       "          3.13103942e-08,  2.95127271e-08,  2.79296773e-08,  2.64972742e-08,\n",
       "          2.51515213e-08,  2.38284016e-08,  2.24638825e-08,  2.09939190e-08,\n",
       "          1.93544557e-08,  1.74814296e-08,  1.53107708e-08,  1.27784041e-08,\n",
       "          9.82024978e-09,  6.37222439e-09,  2.37024139e-09, -2.24978843e-09,\n",
       "         -7.55195655e-09, -1.36003562e-08, -2.04590825e-08, -2.81922318e-08,\n",
       "         -3.68639018e-08, -4.65381912e-08, -5.72791991e-08, -6.91510269e-08,\n",
       "         -8.22177748e-08, -9.65435450e-08, -1.12192440e-07, -1.29228562e-07,\n",
       "         -1.47716014e-07, -1.67718901e-07, -1.89301326e-07, -2.12527393e-07,\n",
       "         -2.37461207e-07, -2.64166872e-07, -2.92708496e-07, -3.23150180e-07,\n",
       "         -3.55556032e-07, -3.89990158e-07, -4.26516661e-07, -4.65199649e-07,\n",
       "         -5.06103228e-07, -5.49291504e-07, -5.94828583e-07, -6.42778570e-07,\n",
       "         -6.93205575e-07, -7.46173699e-07, -8.01747054e-07, -8.59989744e-07,\n",
       "         -9.20965876e-07, -9.84739557e-07, -1.05137489e-06, -1.12093599e-06,\n",
       "         -1.19348696e-06, -1.26909191e-06, -1.34781493e-06, -1.42972016e-06,\n",
       "         -1.51487167e-06, -1.60333359e-06, -1.69517002e-06, -1.79044508e-06,\n",
       "         -1.88922286e-06, -1.99156747e-06, -2.09754302e-06, -2.20721362e-06,\n",
       "         -2.32064338e-06, -2.43789640e-06, -2.55903678e-06, -2.68412865e-06,\n",
       "         -2.81323610e-06, -2.94642324e-06, -3.08375418e-06, -3.22529303e-06,\n",
       "         -3.37110389e-06, -3.52125087e-06, -3.67579809e-06, -3.83480963e-06,\n",
       "         -3.99834963e-06, -4.16648218e-06, -4.33927138e-06, -4.51678135e-06,\n",
       "         -4.69907619e-06, -4.88622001e-06, -5.07827693e-06, -5.27531103e-06,\n",
       "         -5.47738645e-06, -5.68456728e-06, -5.89691762e-06, -6.11450158e-06,\n",
       "         -6.33738329e-06, -6.56562684e-06, -6.79929633e-06, -7.03845589e-06,\n",
       "         -7.28316959e-06, -7.53350160e-06, -7.78951596e-06, -8.05127681e-06,\n",
       "         -8.31884826e-06, -8.59229442e-06, -8.87167936e-06, -9.15706724e-06,\n",
       "         -9.44852215e-06, -9.74610820e-06, -1.00498895e-05, -1.03599301e-05,\n",
       "         -1.06762942e-05, -1.09990458e-05])},\n",
       " 'c_dd': {'bins0': array([0]),\n",
       "  'bins1': array([0]),\n",
       "  'n_dv_per_bin': 122,\n",
       "  'separation': array([  49.5,   99.5,  149.5,  199.5,  249.5,  299.5,  349.5,  399.5,\n",
       "          449.5,  499.5,  549.5,  599.5,  649.5,  699.5,  749.5,  799.5,\n",
       "          849.5,  899.5,  949.5,  999.5, 1049.5, 1099.5, 1149.5, 1199.5,\n",
       "         1249.5, 1299.5, 1349.5, 1399.5, 1449.5, 1499.5, 1549.5, 1599.5,\n",
       "         1649.5, 1699.5, 1749.5, 1799.5, 1849.5, 1899.5, 1949.5, 1999.5,\n",
       "         2049.5, 2099.5, 2149.5, 2199.5, 2249.5, 2299.5, 2349.5, 2399.5,\n",
       "         2449.5, 2499.5, 2549.5, 2599.5, 2649.5, 2699.5, 2749.5, 2799.5,\n",
       "         2849.5, 2899.5, 2949.5, 2999.5, 3049.5, 3099.5, 3149.5, 3199.5,\n",
       "         3249.5, 3299.5, 3349.5, 3399.5, 3449.5, 3499.5, 3549.5, 3599.5,\n",
       "         3649.5, 3699.5, 3749.5, 3799.5, 3849.5, 3899.5, 3949.5, 3999.5,\n",
       "         4049.5, 4099.5, 4149.5, 4199.5, 4249.5, 4299.5, 4349.5, 4399.5,\n",
       "         4449.5, 4499.5, 4549.5, 4599.5, 4649.5, 4699.5, 4749.5, 4799.5,\n",
       "         4849.5, 4899.5, 4949.5, 4999.5, 5049.5, 5099.5, 5149.5, 5199.5,\n",
       "         5249.5, 5299.5, 5349.5, 5399.5, 5449.5, 5499.5, 5549.5, 5599.5,\n",
       "         5649.5, 5699.5, 5749.5, 5799.5, 5849.5, 5899.5, 5949.5, 5999.5,\n",
       "         6049.5, 6099.5]),\n",
       "  'scale_cut_masks': None,\n",
       "  '0_model': array([ 2.81075522e-05,  1.71555484e-05,  1.07242819e-05,  7.74021579e-06,\n",
       "          5.82309351e-06,  4.72581043e-06,  3.98675165e-06,  3.48118165e-06,\n",
       "          3.11513014e-06,  2.83685805e-06,  2.62268965e-06,  2.45320066e-06,\n",
       "          2.31462646e-06,  2.19819624e-06,  2.10030473e-06,  2.01827747e-06,\n",
       "          1.94821119e-06,  1.88675367e-06,  1.83194045e-06,  1.78197082e-06,\n",
       "          1.73504330e-06,  1.68935581e-06,  1.64310582e-06,  1.59449044e-06,\n",
       "          1.54170644e-06,  1.48295041e-06,  1.41641869e-06,  1.34030751e-06,\n",
       "          1.25281293e-06,  1.15213092e-06,  1.03645736e-06,  9.03988032e-07,\n",
       "          7.52918669e-07,  5.81444949e-07,  3.87762490e-07,  1.70066868e-07,\n",
       "         -7.34463514e-08, -3.44581676e-07, -6.45143591e-07, -9.76936662e-07,\n",
       "         -1.34176543e-06, -1.74143445e-06, -2.17774837e-06, -2.65251172e-06,\n",
       "         -3.16752921e-06, -3.72460537e-06, -4.32554493e-06, -4.97215249e-06,\n",
       "         -5.66623270e-06, -6.40959024e-06, -7.20402985e-06, -8.05135607e-06,\n",
       "         -8.95337371e-06, -9.91188738e-06, -1.09287018e-05, -1.20056216e-05,\n",
       "         -1.31444516e-05, -1.43469965e-05, -1.56150610e-05, -1.69504496e-05,\n",
       "         -1.83549674e-05, -1.98304186e-05, -2.13786085e-05, -2.30013414e-05,\n",
       "         -2.47004221e-05, -2.64776555e-05, -2.83348460e-05, -3.02737988e-05,\n",
       "         -3.22963181e-05, -3.44042092e-05, -3.65992761e-05, -3.88833246e-05,\n",
       "         -4.12581581e-05, -4.37255823e-05, -4.62874017e-05, -4.89454209e-05,\n",
       "         -5.17014447e-05, -5.45572780e-05, -5.75147252e-05, -6.05755913e-05,\n",
       "         -6.37416807e-05, -6.70147989e-05, -7.03967499e-05, -7.38893386e-05,\n",
       "         -7.74943699e-05, -8.12136490e-05, -8.50489793e-05, -8.90021670e-05,\n",
       "         -9.30750160e-05, -9.72693308e-05, -1.01586917e-04, -1.06029579e-04,\n",
       "         -1.10599121e-04, -1.15297349e-04, -1.20126066e-04, -1.25087079e-04,\n",
       "         -1.30182190e-04, -1.35413206e-04, -1.40781931e-04, -1.46290169e-04,\n",
       "         -1.51939726e-04, -1.57732407e-04, -1.63670014e-04, -1.69754355e-04,\n",
       "         -1.75987233e-04, -1.82370453e-04, -1.88905820e-04, -1.95595139e-04,\n",
       "         -2.02440213e-04, -2.09442851e-04, -2.16604852e-04, -2.23928024e-04,\n",
       "         -2.31414173e-04, -2.39065101e-04, -2.46882615e-04, -2.54868517e-04,\n",
       "         -2.63024615e-04, -2.71352713e-04, -2.79854611e-04, -2.88532121e-04,\n",
       "         -2.97387043e-04, -3.06421183e-04])}}"
      ]
     },
     "execution_count": 15,
     "metadata": {},
     "output_type": "execute_result"
    }
   ],
   "source": [
    "#this contains all the info about the model predictions and the actual data we looked at earlier\n",
    "like.spectrum_info"
   ]
  },
  {
   "cell_type": "code",
   "execution_count": 16,
   "id": "834804e0-1355-4782-bdab-60608824e3a7",
   "metadata": {},
   "outputs": [
    {
     "name": "stderr",
     "output_type": "stream",
     "text": [
      "<ipython-input-16-9b757870ef4d>:16: UserWarning: Attempted to set non-positive left xlim on a log-scaled axis.\n",
      "Invalid limit will be ignored.\n",
      "  plt.xlim([0,1000])\n"
     ]
    },
    {
     "data": {
      "text/plain": [
       "(38.9108526082757, 1000)"
      ]
     },
     "execution_count": 16,
     "metadata": {},
     "output_type": "execute_result"
    },
    {
     "name": "stdout",
     "output_type": "stream",
     "text": [
      "[matplotlib.texmanager] No LaTeX-compatible font found for the serif font family in rcParams. Using default.\n",
      "[matplotlib.texmanager] No LaTeX-compatible font found for the serif font family in rcParams. Using default.\n",
      "[matplotlib.texmanager] No LaTeX-compatible font found for the serif font family in rcParams. Using default.\n",
      "[matplotlib.texmanager] No LaTeX-compatible font found for the serif font family in rcParams. Using default.\n",
      "[matplotlib.texmanager] No LaTeX-compatible font found for the serif font family in rcParams. Using default.\n",
      "[matplotlib.texmanager] No LaTeX-compatible font found for the serif font family in rcParams. Using default.\n",
      "[matplotlib.texmanager] No LaTeX-compatible font found for the serif font family in rcParams. Using default.\n",
      "[matplotlib.texmanager] No LaTeX-compatible font found for the serif font family in rcParams. Using default.\n",
      "[matplotlib.texmanager] No LaTeX-compatible font found for the serif font family in rcParams. Using default.\n",
      "[matplotlib.texmanager] No LaTeX-compatible font found for the serif font family in rcParams. Using default.\n",
      "[matplotlib.texmanager] No LaTeX-compatible font found for the serif font family in rcParams. Using default.\n",
      "[matplotlib.texmanager] No LaTeX-compatible font found for the serif font family in rcParams. Using default.\n",
      "[matplotlib.texmanager] No LaTeX-compatible font found for the serif font family in rcParams. Using default.\n",
      "[matplotlib.texmanager] No LaTeX-compatible font found for the serif font family in rcParams. Using default.\n",
      "[matplotlib.texmanager] No LaTeX-compatible font found for the serif font family in rcParams. Using default.\n",
      "[matplotlib.texmanager] No LaTeX-compatible font found for the serif font family in rcParams. Using default.\n",
      "[matplotlib.texmanager] No LaTeX-compatible font found for the serif font family in rcParams. Using default.\n",
      "[matplotlib.texmanager] No LaTeX-compatible font found for the serif font family in rcParams. Using default.\n",
      "[matplotlib.texmanager] No LaTeX-compatible font found for the serif font family in rcParams. Using default.\n",
      "[matplotlib.texmanager] No LaTeX-compatible font found for the serif font family in rcParams. Using default.\n",
      "[matplotlib.texmanager] No LaTeX-compatible font found for the serif font family in rcParams. Using default.\n",
      "[matplotlib.texmanager] No LaTeX-compatible font found for the serif font family in rcParams. Using default.\n",
      "[matplotlib.texmanager] No LaTeX-compatible font found for the serif font family in rcParams. Using default.\n",
      "[matplotlib.texmanager] No LaTeX-compatible font found for the serif font family in rcParams. Using default.\n",
      "[matplotlib.texmanager] No LaTeX-compatible font found for the serif font family in rcParams. Using default.\n",
      "[matplotlib.texmanager] No LaTeX-compatible font found for the serif font family in rcParams. Using default.\n",
      "[matplotlib.texmanager] No LaTeX-compatible font found for the serif font family in rcParams. Using default.\n",
      "[matplotlib.texmanager] No LaTeX-compatible font found for the serif font family in rcParams. Using default.\n",
      "[matplotlib.texmanager] No LaTeX-compatible font found for the serif font family in rcParams. Using default.\n",
      "[matplotlib.texmanager] No LaTeX-compatible font found for the serif font family in rcParams. Using default.\n",
      "[matplotlib.texmanager] No LaTeX-compatible font found for the serif font family in rcParams. Using default.\n",
      "[matplotlib.texmanager] No LaTeX-compatible font found for the serif font family in rcParams. Using default.\n",
      "[matplotlib.texmanager] No LaTeX-compatible font found for the serif font family in rcParams. Using default.\n",
      "[matplotlib.texmanager] No LaTeX-compatible font found for the serif font family in rcParams. Using default.\n",
      "[matplotlib.texmanager] No LaTeX-compatible font found for the serif font family in rcParams. Using default.\n",
      "[matplotlib.texmanager] No LaTeX-compatible font found for the serif font family in rcParams. Using default.\n",
      "[matplotlib.texmanager] No LaTeX-compatible font found for the serif font family in rcParams. Using default.\n",
      "[matplotlib.texmanager] No LaTeX-compatible font found for the serif font family in rcParams. Using default.\n",
      "[matplotlib.texmanager] No LaTeX-compatible font found for the serif font family in rcParams. Using default.\n",
      "[matplotlib.texmanager] No LaTeX-compatible font found for the serif font family in rcParams. Using default.\n",
      "[matplotlib.texmanager] No LaTeX-compatible font found for the serif font family in rcParams. Using default.\n",
      "[matplotlib.texmanager] No LaTeX-compatible font found for the serif font family in rcParams. Using default.\n",
      "[matplotlib.texmanager] No LaTeX-compatible font found for the serif font family in rcParams. Using default.\n",
      "[matplotlib.texmanager] No LaTeX-compatible font found for the serif font family in rcParams. Using default.\n",
      "[matplotlib.texmanager] No LaTeX-compatible font found for the serif font family in rcParams. Using default.\n",
      "[matplotlib.texmanager] No LaTeX-compatible font found for the serif font family in rcParams. Using default.\n",
      "[matplotlib.texmanager] No LaTeX-compatible font found for the serif font family in rcParams. Using default.\n",
      "[matplotlib.texmanager] No LaTeX-compatible font found for the serif font family in rcParams. Using default.\n"
     ]
    },
    {
     "data": {
      "image/png": "[encoded data removed]",
      "text/plain": [
       "<Figure size 800x600 with 1 Axes>"
      ]
     },
     "metadata": {
      "needs_background": "light"
     },
     "output_type": "display_data"
    }
   ],
   "source": [
    "#Just as an example, we can plot the model predictions against the data. These aren't really meant to match since I haven't tuned the bias parameters at all.\n",
    "# lens-lens auto correlation\n",
    "c_dd = spectra[(spectra['spectrum_type'] == 'c_dd') & (spectra['zbin0']==0) & (spectra['zbin1']==0)]\n",
    "\n",
    "# lens-cmbkappa cross correlation\n",
    "c_dcmbk = spectra[(spectra['spectrum_type'] == 'c_dcmbk') & (spectra['zbin0']==0) & (spectra['zbin1']==0)]\n",
    "\n",
    "plt.loglog(c_dd['separation'], c_dd['value'], ls='', marker='o')\n",
    "plt.loglog(c_dcmbk['separation'], c_dcmbk['value'], ls='', marker='o')\n",
    "plt.gca().set_prop_cycle(None)\n",
    "plt.loglog(like.spectrum_info['c_dd']['separation'], like.spectrum_info['c_dd']['0_model'])\n",
    "plt.loglog(like.spectrum_info['c_dcmbk']['separation'], like.spectrum_info['c_dcmbk']['0_model'])\n",
    "\n",
    "plt.xlabel(r'$\\ell$')\n",
    "plt.ylabel(r'$C(\\ell)$')\n",
    "plt.xlim([0,1000])"
   ]
  },
  {
   "cell_type": "code",
   "execution_count": null,
   "id": "e79196cb-495b-42bf-8812-339a6425faaa",
   "metadata": {},
   "outputs": [],
   "source": []
  }
 ],
 "metadata": {
  "kernelspec": {
   "display_name": "cobaya-env",
   "language": "python",
   "name": "cobaya"
  },
  "language_info": {
   "codemirror_mode": {
    "name": "ipython",
    "version": 3
   },
   "file_extension": ".py",
   "mimetype": "text/x-python",
   "name": "python",
   "nbconvert_exporter": "python",
   "pygments_lexer": "ipython3",
   "version": "3.8.5"
  }
 },
 "nbformat": 4,
 "nbformat_minor": 5
}
